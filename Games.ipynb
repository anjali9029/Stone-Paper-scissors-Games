{
  "nbformat": 4,
  "nbformat_minor": 0,
  "metadata": {
    "colab": {
      "provenance": []
    },
    "kernelspec": {
      "name": "python3",
      "display_name": "Python 3"
    },
    "language_info": {
      "name": "python"
    }
  },
  "cells": [
    {
      "cell_type": "code",
      "execution_count": 1,
      "metadata": {
        "colab": {
          "base_uri": "https://localhost:8080/"
        },
        "id": "_XQ_7o-Js3iM",
        "outputId": "79949fd5-8362-4ec2-a5c1-4fa3e5aa76dd"
      },
      "outputs": [
        {
          "name": "stdout",
          "output_type": "stream",
          "text": [
            "Enter your choice (rock, paper, scissors): paper\n",
            "Computer played: paper\n",
            "Tie!\n",
            "Play again? (y/n) stone\n"
          ]
        }
      ],
      "source": [
        "import random\n",
        "\n",
        "OPTIONS = [\"stone\", \"paper\", \"scissors\"]\n",
        "\n",
        "def get_computer_choice():\n",
        "  return random.choice(OPTIONS)\n",
        "\n",
        "def get_player_choice():\n",
        "  while True:\n",
        "    choice = input(\"Enter your choice (rock, paper, scissors): \").lower()\n",
        "    if choice in OPTIONS:\n",
        "      return choice\n",
        "\n",
        "def check_winner(player, computer):\n",
        "  if player == computer:\n",
        "    return \"Tie!\"\n",
        "  elif beats(player, computer):\n",
        "    return \"You won!\"\n",
        "  return \"Computer won!\"\n",
        "\n",
        "def beats(one, two):\n",
        "  wins = [('rock', 'scissors'),\n",
        "          ('paper', 'rock'),\n",
        "          ('scissors', 'paper')]\n",
        "  return (one, two) in wins\n",
        "\n",
        "def play_game():\n",
        "  while True:\n",
        "    player = get_player_choice()\n",
        "    computer = get_computer_choice()\n",
        "    print(\"Computer played:\", computer)\n",
        "    winner = check_winner(player, computer)\n",
        "    print(winner)\n",
        "\n",
        "    play_again = input(\"Play again? (y/n) \").lower()\n",
        "    if play_again != 'y':\n",
        "      break\n",
        "\n",
        "if __name__ == '__main__':\n",
        "  play_game()"
      ]
    }
  ]
}